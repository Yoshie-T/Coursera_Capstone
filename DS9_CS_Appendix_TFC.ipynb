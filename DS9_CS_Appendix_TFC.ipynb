{
 "cells": [
  {
   "cell_type": "markdown",
   "metadata": {},
   "source": [
    "##### Traffic Flow Count data"
   ]
  },
  {
   "cell_type": "code",
   "execution_count": null,
   "metadata": {},
   "outputs": [],
   "source": [
    "#\n",
    "Tf2018 = pd.read_csv('2018_Traffic_Flow_Counts.csv')\n",
    "Tf2018.head()"
   ]
  },
  {
   "cell_type": "code",
   "execution_count": null,
   "metadata": {},
   "outputs": [],
   "source": [
    "Tf2018.info()"
   ]
  },
  {
   "cell_type": "code",
   "execution_count": null,
   "metadata": {},
   "outputs": [],
   "source": [
    "Tf2018['STNAME_ORD'].value_counts()"
   ]
  },
  {
   "cell_type": "code",
   "execution_count": null,
   "metadata": {},
   "outputs": [],
   "source": [
    "Tf2018['DATAQUALITY'].value_counts()"
   ]
  },
  {
   "cell_type": "code",
   "execution_count": null,
   "metadata": {},
   "outputs": [],
   "source": [
    "s2018['LOCATION'].value_counts()"
   ]
  },
  {
   "cell_type": "code",
   "execution_count": null,
   "metadata": {},
   "outputs": [],
   "source": []
  },
  {
   "cell_type": "code",
   "execution_count": null,
   "metadata": {},
   "outputs": [],
   "source": []
  },
  {
   "cell_type": "code",
   "execution_count": null,
   "metadata": {},
   "outputs": [],
   "source": []
  },
  {
   "cell_type": "code",
   "execution_count": null,
   "metadata": {},
   "outputs": [],
   "source": [
    "#Create a map by LightCond\n",
    "\n",
    "coords_1 = (geo_s[geo_s.LIGHTCOND == 'Daylight']).sort_values(by=['Y','X'])\n",
    "coords_2 = (geo_s[geo_s.LIGHTCOND == 'Dark - Street Lights On']).sort_values(by=['Y','X'])\n",
    "coords_3 = (geo_s[geo_s.LIGHTCOND == 'Dusk']).sort_values(by=['Y','X'])\n",
    "coords_4 = (geo_s[geo_s.LIGHTCOND == 'Dawn']).sort_values(by=['Y','X'])\n",
    "coords_5 = (geo_s[geo_s.LIGHTCOND == 'Dark - No Street Lights']).sort_values(by=['Y','X'])\n",
    "coords_6 = (geo_s[geo_s.LIGHTCOND == 'Dark - Street Lights Off']).sort_values(by=['Y','X'])\n",
    "coords_7 = (geo_s[(geo_s.LIGHTCOND == 'Unknown') | (geo_s.LIGHTCOND == 'Other')]).sort_values(by=['Y','X'])\n",
    "\n",
    "cds_1 = (coords_1[['Y','X']]).to_numpy()\n",
    "cds_2 = (coords_2[['Y','X']]).to_numpy()\n",
    "cds_3 = (coords_3[['Y','X']]).to_numpy()\n",
    "cds_4 = (coords_4[['Y','X']]).to_numpy()\n",
    "cds_5 = (coords_5[['Y','X']]).to_numpy()\n",
    "cds_6 = (coords_6[['Y','X']]).to_numpy()\n",
    "cds_7 = (coords_7[['Y','X']]).to_numpy()\n",
    "\n",
    "cds_7"
   ]
  },
  {
   "cell_type": "code",
   "execution_count": null,
   "metadata": {},
   "outputs": [],
   "source": [
    "mapLC = folium.Map(location=[47.60621, -122.33207], tiles='cartodbpositron', zoom_start=12)  \n",
    "\n",
    "figLC=Figure(height=550,width=750)\n",
    "figLC.add_child(mapLC)\n",
    "\n",
    "# Creating feature groups\n",
    "f1=folium.FeatureGroup('Daylight')\n",
    "f2=folium.FeatureGroup('Dark - Street Lights On')\n",
    "f3=folium.FeatureGroup('Dusk')\n",
    "f4=folium.FeatureGroup('Dawn')\n",
    "f5=folium.FeatureGroup('Dark - No Street Lights')\n",
    "f6=folium.FeatureGroup('Dark - Street Lights Off')\n",
    "f7=folium.FeatureGroup('Unknown or Other')\n",
    "\n",
    "# Adding lines to the different feature groups\n",
    "\n",
    "line_1=folium.PolyLine(coords_1.Y, coords_1.X, popup='<b>Daylight</b>', tooltip='Daylight', color='blue', weight=10).add_to(f1)\n",
    "line_2=folium.PolyLine([coords_2['Y']],[coords_2['X']],popup='<b>Dark - Street Lights On</b>',tooltip='Dark - Street Lights On',color='red',weight=10).add_to(f2)\n",
    "line_3=folium.PolyLine([coords_3['Y']],[coords_3['X']],popup='<b>Dusk</b>',tooltip='Dusk',color='green',weight=10).add_to(f3)\n",
    "line_4=folium.PolyLine([coords_4['Y']],[coords_4['X']],popup='<b>Dawn</b>',tooltip='Dawn',color='orange',weight=10).add_to(f4)\n",
    "line_5=folium.PolyLine([coords_5['Y']],[coords_5['X']],popup='<b>Dark - No Street Lights</b>',tooltip='Dark - No Street Lights',color='purple',weight=10).add_to(f5)\n",
    "line_6=folium.PolyLine([coords_6['Y']],[coords_6['X']],popup='<b>Dark - Street Lights Off</b>',tooltip='Dark - Street Lights Off',color='brown',weight=10).add_to(f6)\n",
    "line_7=folium.PolyLine([coords_7['Y']],[coords_7['X']],popup='<b>Unknown or Other</b>',tooltip='Unknown or Other',color='gray',weight=10).add_to(f7)\n",
    "\n",
    "f1.add_to(mapLC)\n",
    "f2.add_to(mapLC)\n",
    "f3.add_to(mapLC)\n",
    "f4.add_to(mapLC)\n",
    "f5.add_to(mapLC)\n",
    "f6.add_to(mapLC)\n",
    "f7.add_to(mapLC)\n",
    "folium.LayerControl().add_to(mapLC)\n",
    "mapLC"
   ]
  },
  {
   "cell_type": "code",
   "execution_count": null,
   "metadata": {},
   "outputs": [],
   "source": []
  },
  {
   "cell_type": "code",
   "execution_count": null,
   "metadata": {},
   "outputs": [],
   "source": []
  }
 ],
 "metadata": {
  "kernelspec": {
   "display_name": "Python 3",
   "language": "python",
   "name": "python3"
  },
  "language_info": {
   "codemirror_mode": {
    "name": "ipython",
    "version": 3
   },
   "file_extension": ".py",
   "mimetype": "text/x-python",
   "name": "python",
   "nbconvert_exporter": "python",
   "pygments_lexer": "ipython3",
   "version": "3.8.3"
  }
 },
 "nbformat": 4,
 "nbformat_minor": 4
}
