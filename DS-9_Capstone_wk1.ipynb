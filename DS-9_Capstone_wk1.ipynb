{
 "cells": [
  {
   "cell_type": "markdown",
   "metadata": {},
   "source": [
    "# Capstone Project - Car accident severity"
   ]
  },
  {
   "cell_type": "code",
   "execution_count": 227,
   "metadata": {
    "jupyter": {
     "source_hidden": true
    }
   },
   "outputs": [],
   "source": [
    "from IPython.core.display import display, HTML"
   ]
  },
  {
   "cell_type": "markdown",
   "metadata": {},
   "source": [
    "## Introduction<br>\n",
    "\n",
    "<font color=blue>**Background**</font><br>\n",
    "Deaths and injuries by road crash are highly concerning issues, with 1.35 million and 50 million people affected around the world, respectively. \n",
    "\n",
    "In 2018, the United States, being one of the busiest countries with nearly 280 million vehicles in operation and more than 227.5 million people holding a valid driving license, counted more than 38,000 deaths and 12 million vehicles involved in road crashes. \n",
    "\n",
    "Road crashes are the leading cause of deaths in the U.S. for people aged 1-54. An additional 4.4 million are injured seriously enough to require medical attention. According to OECD’s 2019 U.S. annual report, the economic costs of traffic crashes represents 1.6% of the GDP. When quality of life valuations are considered, the total value of societal harm from motor vehicle crashes is nearly 6% of GDP.\n"
   ]
  },
  {
   "cell_type": "markdown",
   "metadata": {},
   "source": [
    "<font color=blue>**Problem**</font><br>\n",
    "In Seattle alone in 2018, the dataset provided by Seattle Department of Transportation (SDOT) counts over 3,500 injuries and 7,000 property-damage-only collisions in the same year. Thus, it is absolutely reasonable that various stakeholders would wish to minimize such numbers, and this project addresses the request to choose the suitable predictive model(s) of the possibility and severity of road crashes."
   ]
  },
  {
   "cell_type": "markdown",
   "metadata": {},
   "source": [
    "While potential stakeholders include:<br>\n",
    "* Drivers, pedestrians, bicyclists, others using transportation services\n",
    "* Transportation service providers\n",
    "* Hospitals\n",
    "* Government bodies, e.g. EMS, SPD, School Board, DoTransportation, DoHealth\n",
    "* Other local and federal government bodies (policy-making side, social welfare-side, etc.)\n",
    "* Insurers\n",
    "* Corporations and employees\n",
    "* Nonprofit organizations"
   ]
  },
  {
   "cell_type": "markdown",
   "metadata": {},
   "source": [
    "In this project we will focus on finding the determining variables causing crashes and the most suitable predictive modeling for the responsible parties such as SDOT or SPD to be able to alert and/or educate drivers sufficiently to reduce the number of crashes and the severity of crashes."
   ]
  },
  {
   "cell_type": "markdown",
   "metadata": {},
   "source": [
    "### Data Description\n",
    "\n"
   ]
  },
  {
   "cell_type": "markdown",
   "metadata": {},
   "source": [
    "We expect the output will involve two types of classifications: one with two labels (crash or no crash), another with multiple (severity of crash).<br>\n",
    "<font color=green>The first dataset</font> to look at is Seattle SDOT Collisions Data that is available at [Kaggle](https://www.kaggle.com/jonleon/seattle-sdot-collisions-data) which contains more than 221,000 records of collisions over the period of 2004 - 2019.<br>\n",
    "Dataset Summary can be seen [here](https://www.seattle.gov/Documents/Departments/SDOT/GIS/Collisions_OD.pdf) and below."
   ]
  },
  {
   "cell_type": "raw",
   "metadata": {
    "jupyter": {
     "source_hidden": true
    }
   },
   "source": [
    "import pandas as pd"
   ]
  },
  {
   "cell_type": "code",
   "execution_count": 4,
   "metadata": {},
   "outputs": [],
   "source": [
    "#Read the dataset downloaded from Kaggle. Dataset has been downloaded from the website and uploaded here as below.\n",
    "sdot = pd.read_csv('SDOT_Collisions.csv')"
   ]
  },
  {
   "cell_type": "code",
   "execution_count": 5,
   "metadata": {
    "collapsed": true,
    "jupyter": {
     "outputs_hidden": true,
     "source_hidden": true
    }
   },
   "outputs": [
    {
     "data": {
      "text/html": [
       "<div>\n",
       "<style scoped>\n",
       "    .dataframe tbody tr th:only-of-type {\n",
       "        vertical-align: middle;\n",
       "    }\n",
       "\n",
       "    .dataframe tbody tr th {\n",
       "        vertical-align: top;\n",
       "    }\n",
       "\n",
       "    .dataframe thead th {\n",
       "        text-align: right;\n",
       "    }\n",
       "</style>\n",
       "<table border=\"1\" class=\"dataframe\">\n",
       "  <thead>\n",
       "    <tr style=\"text-align: right;\">\n",
       "      <th></th>\n",
       "      <th>X</th>\n",
       "      <th>Y</th>\n",
       "      <th>OBJECTID</th>\n",
       "      <th>INCKEY</th>\n",
       "      <th>COLDETKEY</th>\n",
       "      <th>REPORTNO</th>\n",
       "      <th>STATUS</th>\n",
       "      <th>ADDRTYPE</th>\n",
       "      <th>INTKEY</th>\n",
       "      <th>LOCATION</th>\n",
       "      <th>...</th>\n",
       "      <th>ROADCOND</th>\n",
       "      <th>LIGHTCOND</th>\n",
       "      <th>PEDROWNOTGRNT</th>\n",
       "      <th>SDOTCOLNUM</th>\n",
       "      <th>SPEEDING</th>\n",
       "      <th>ST_COLCODE</th>\n",
       "      <th>ST_COLDESC</th>\n",
       "      <th>SEGLANEKEY</th>\n",
       "      <th>CROSSWALKKEY</th>\n",
       "      <th>HITPARKEDCAR</th>\n",
       "    </tr>\n",
       "  </thead>\n",
       "  <tbody>\n",
       "    <tr>\n",
       "      <th>0</th>\n",
       "      <td>-122.386772</td>\n",
       "      <td>47.564720</td>\n",
       "      <td>1</td>\n",
       "      <td>326234</td>\n",
       "      <td>327734</td>\n",
       "      <td>E984735</td>\n",
       "      <td>Matched</td>\n",
       "      <td>Intersection</td>\n",
       "      <td>31893.0</td>\n",
       "      <td>CALIFORNIA AVE SW AND SW GENESEE ST</td>\n",
       "      <td>...</td>\n",
       "      <td>Dry</td>\n",
       "      <td>Daylight</td>\n",
       "      <td>Y</td>\n",
       "      <td>NaN</td>\n",
       "      <td>NaN</td>\n",
       "      <td>2</td>\n",
       "      <td>Vehicle turning left hits pedestrian</td>\n",
       "      <td>0</td>\n",
       "      <td>0</td>\n",
       "      <td>N</td>\n",
       "    </tr>\n",
       "    <tr>\n",
       "      <th>1</th>\n",
       "      <td>-122.341806</td>\n",
       "      <td>47.686934</td>\n",
       "      <td>2</td>\n",
       "      <td>326246</td>\n",
       "      <td>327746</td>\n",
       "      <td>E985430</td>\n",
       "      <td>Matched</td>\n",
       "      <td>Intersection</td>\n",
       "      <td>24228.0</td>\n",
       "      <td>STONE AVE N AND N 80TH ST</td>\n",
       "      <td>...</td>\n",
       "      <td>Wet</td>\n",
       "      <td>Dark - Street Lights On</td>\n",
       "      <td>NaN</td>\n",
       "      <td>NaN</td>\n",
       "      <td>NaN</td>\n",
       "      <td>10</td>\n",
       "      <td>Entering at angle</td>\n",
       "      <td>0</td>\n",
       "      <td>0</td>\n",
       "      <td>N</td>\n",
       "    </tr>\n",
       "    <tr>\n",
       "      <th>2</th>\n",
       "      <td>-122.374899</td>\n",
       "      <td>47.668666</td>\n",
       "      <td>3</td>\n",
       "      <td>329254</td>\n",
       "      <td>330754</td>\n",
       "      <td>EA16720</td>\n",
       "      <td>Matched</td>\n",
       "      <td>Block</td>\n",
       "      <td>NaN</td>\n",
       "      <td>NW MARKET ST BETWEEN 14TH AVE NW AND 15TH AVE NW</td>\n",
       "      <td>...</td>\n",
       "      <td>Dry</td>\n",
       "      <td>Daylight</td>\n",
       "      <td>NaN</td>\n",
       "      <td>NaN</td>\n",
       "      <td>NaN</td>\n",
       "      <td>11</td>\n",
       "      <td>From same direction - both going straight - bo...</td>\n",
       "      <td>0</td>\n",
       "      <td>0</td>\n",
       "      <td>N</td>\n",
       "    </tr>\n",
       "    <tr>\n",
       "      <th>3</th>\n",
       "      <td>-122.300758</td>\n",
       "      <td>47.683047</td>\n",
       "      <td>4</td>\n",
       "      <td>21200</td>\n",
       "      <td>21200</td>\n",
       "      <td>1227970</td>\n",
       "      <td>Matched</td>\n",
       "      <td>Intersection</td>\n",
       "      <td>24661.0</td>\n",
       "      <td>25TH AVE NE AND NE 75TH ST</td>\n",
       "      <td>...</td>\n",
       "      <td>Wet</td>\n",
       "      <td>Dark - Street Lights On</td>\n",
       "      <td>NaN</td>\n",
       "      <td>4160038.0</td>\n",
       "      <td>NaN</td>\n",
       "      <td>28</td>\n",
       "      <td>From opposite direction - one left turn - one ...</td>\n",
       "      <td>0</td>\n",
       "      <td>0</td>\n",
       "      <td>N</td>\n",
       "    </tr>\n",
       "    <tr>\n",
       "      <th>4</th>\n",
       "      <td>-122.313053</td>\n",
       "      <td>47.567241</td>\n",
       "      <td>5</td>\n",
       "      <td>17000</td>\n",
       "      <td>17000</td>\n",
       "      <td>1793348</td>\n",
       "      <td>Unmatched</td>\n",
       "      <td>Block</td>\n",
       "      <td>NaN</td>\n",
       "      <td>S DAKOTA ST BETWEEN 15TH AVE S AND 16TH AVE S</td>\n",
       "      <td>...</td>\n",
       "      <td>NaN</td>\n",
       "      <td>NaN</td>\n",
       "      <td>NaN</td>\n",
       "      <td>4289025.0</td>\n",
       "      <td>NaN</td>\n",
       "      <td>NaN</td>\n",
       "      <td>NaN</td>\n",
       "      <td>0</td>\n",
       "      <td>0</td>\n",
       "      <td>N</td>\n",
       "    </tr>\n",
       "  </tbody>\n",
       "</table>\n",
       "<p>5 rows × 40 columns</p>\n",
       "</div>"
      ],
      "text/plain": [
       "            X          Y  OBJECTID  INCKEY  COLDETKEY REPORTNO     STATUS  \\\n",
       "0 -122.386772  47.564720         1  326234     327734  E984735    Matched   \n",
       "1 -122.341806  47.686934         2  326246     327746  E985430    Matched   \n",
       "2 -122.374899  47.668666         3  329254     330754  EA16720    Matched   \n",
       "3 -122.300758  47.683047         4   21200      21200  1227970    Matched   \n",
       "4 -122.313053  47.567241         5   17000      17000  1793348  Unmatched   \n",
       "\n",
       "       ADDRTYPE   INTKEY                                          LOCATION  \\\n",
       "0  Intersection  31893.0               CALIFORNIA AVE SW AND SW GENESEE ST   \n",
       "1  Intersection  24228.0                         STONE AVE N AND N 80TH ST   \n",
       "2         Block      NaN  NW MARKET ST BETWEEN 14TH AVE NW AND 15TH AVE NW   \n",
       "3  Intersection  24661.0                        25TH AVE NE AND NE 75TH ST   \n",
       "4         Block      NaN     S DAKOTA ST BETWEEN 15TH AVE S AND 16TH AVE S   \n",
       "\n",
       "   ... ROADCOND                LIGHTCOND PEDROWNOTGRNT SDOTCOLNUM SPEEDING  \\\n",
       "0  ...      Dry                 Daylight             Y        NaN      NaN   \n",
       "1  ...      Wet  Dark - Street Lights On           NaN        NaN      NaN   \n",
       "2  ...      Dry                 Daylight           NaN        NaN      NaN   \n",
       "3  ...      Wet  Dark - Street Lights On           NaN  4160038.0      NaN   \n",
       "4  ...      NaN                      NaN           NaN  4289025.0      NaN   \n",
       "\n",
       "   ST_COLCODE                                         ST_COLDESC  SEGLANEKEY  \\\n",
       "0           2               Vehicle turning left hits pedestrian           0   \n",
       "1          10                                  Entering at angle           0   \n",
       "2          11  From same direction - both going straight - bo...           0   \n",
       "3          28  From opposite direction - one left turn - one ...           0   \n",
       "4         NaN                                                NaN           0   \n",
       "\n",
       "   CROSSWALKKEY  HITPARKEDCAR  \n",
       "0             0             N  \n",
       "1             0             N  \n",
       "2             0             N  \n",
       "3             0             N  \n",
       "4             0             N  \n",
       "\n",
       "[5 rows x 40 columns]"
      ]
     },
     "execution_count": 5,
     "metadata": {},
     "output_type": "execute_result"
    }
   ],
   "source": [
    "#Get the glimps\n",
    "sdot.head()"
   ]
  },
  {
   "cell_type": "code",
   "execution_count": 7,
   "metadata": {
    "collapsed": true,
    "jupyter": {
     "outputs_hidden": true,
     "source_hidden": true
    }
   },
   "outputs": [
    {
     "name": "stdout",
     "output_type": "stream",
     "text": [
      "<class 'pandas.core.frame.DataFrame'>\n",
      "RangeIndex: 221266 entries, 0 to 221265\n",
      "Data columns (total 40 columns):\n",
      " #   Column           Non-Null Count   Dtype  \n",
      "---  ------           --------------   -----  \n",
      " 0   X                213797 non-null  float64\n",
      " 1   Y                213797 non-null  float64\n",
      " 2   OBJECTID         221266 non-null  int64  \n",
      " 3   INCKEY           221266 non-null  int64  \n",
      " 4   COLDETKEY        221266 non-null  int64  \n",
      " 5   REPORTNO         221266 non-null  object \n",
      " 6   STATUS           221266 non-null  object \n",
      " 7   ADDRTYPE         217554 non-null  object \n",
      " 8   INTKEY           71823 non-null   float64\n",
      " 9   LOCATION         216680 non-null  object \n",
      " 10  EXCEPTRSNCODE    100863 non-null  object \n",
      " 11  EXCEPTRSNDESC    11775 non-null   object \n",
      " 12  SEVERITYCODE     221265 non-null  object \n",
      " 13  SEVERITYDESC     221266 non-null  object \n",
      " 14  COLLISIONTYPE    194767 non-null  object \n",
      " 15  PERSONCOUNT      221266 non-null  int64  \n",
      " 16  PEDCOUNT         221266 non-null  int64  \n",
      " 17  PEDCYLCOUNT      221266 non-null  int64  \n",
      " 18  VEHCOUNT         221266 non-null  int64  \n",
      " 19  INJURIES         221266 non-null  int64  \n",
      " 20  SERIOUSINJURIES  221266 non-null  int64  \n",
      " 21  FATALITIES       221266 non-null  int64  \n",
      " 22  INCDATE          221266 non-null  object \n",
      " 23  INCDTTM          221266 non-null  object \n",
      " 24  JUNCTIONTYPE     209299 non-null  object \n",
      " 25  SDOT_COLCODE     221265 non-null  float64\n",
      " 26  SDOT_COLDESC     221265 non-null  object \n",
      " 27  INATTENTIONIND   30188 non-null   object \n",
      " 28  UNDERINFL        194787 non-null  object \n",
      " 29  WEATHER          194578 non-null  object \n",
      " 30  ROADCOND         194658 non-null  object \n",
      " 31  LIGHTCOND        194490 non-null  object \n",
      " 32  PEDROWNOTGRNT    5188 non-null    object \n",
      " 33  SDOTCOLNUM       127205 non-null  float64\n",
      " 34  SPEEDING         9913 non-null    object \n",
      " 35  ST_COLCODE       211853 non-null  object \n",
      " 36  ST_COLDESC       194767 non-null  object \n",
      " 37  SEGLANEKEY       221266 non-null  int64  \n",
      " 38  CROSSWALKKEY     221266 non-null  int64  \n",
      " 39  HITPARKEDCAR     221266 non-null  object \n",
      "dtypes: float64(5), int64(12), object(23)\n",
      "memory usage: 67.5+ MB\n"
     ]
    }
   ],
   "source": [
    "sdot.info()\n"
   ]
  },
  {
   "cell_type": "code",
   "execution_count": 75,
   "metadata": {
    "jupyter": {
     "source_hidden": true
    }
   },
   "outputs": [
    {
     "data": {
      "text/plain": [
       "Property Damage Only Collision    137485\n",
       "Injury Collision                   58698\n",
       "Unknown                            21636\n",
       "Serious Injury Collision            3098\n",
       "Fatality Collision                   349\n",
       "Name: SEVERITYDESC, dtype: int64"
      ]
     },
     "execution_count": 75,
     "metadata": {},
     "output_type": "execute_result"
    }
   ],
   "source": [
    "#Frequency per Severity\n",
    "sdot['SEVERITYDESC'].value_counts()"
   ]
  },
  {
   "cell_type": "code",
   "execution_count": 143,
   "metadata": {
    "jupyter": {
     "source_hidden": true
    }
   },
   "outputs": [
    {
     "data": {
      "text/plain": [
       "2003        1\n",
       "2004    15457\n",
       "2005    16016\n",
       "2006    15794\n",
       "2007    15082\n",
       "2008    14139\n",
       "2009    13275\n",
       "2010    11958\n",
       "2011    12416\n",
       "2012    12732\n",
       "2013    12757\n",
       "2014    13212\n",
       "2015    14260\n",
       "2016    13955\n",
       "2017    12477\n",
       "2018    12198\n",
       "2019    11204\n",
       "2020     4333\n",
       "Name: year, dtype: int64"
      ]
     },
     "execution_count": 143,
     "metadata": {},
     "output_type": "execute_result"
    }
   ],
   "source": [
    "import datetime as dt\n",
    "#Count by year\n",
    "\n",
    "sdot['INCDATE'] = pd.to_datetime(sdot['INCDATE'])\n",
    "sdot['year'] = sdot['INCDATE'].dt.year\n",
    "sdot['year'].value_counts().sort_index()  "
   ]
  },
  {
   "cell_type": "markdown",
   "metadata": {},
   "source": [
    "\n",
    "This is a positive dataset.<br>\n",
    "<br>\n",
    "<font color=green>**Negative dataset</font>** (or lack there of)<br>\n",
    "Here we face the challenge of <u>**not having**</u> the negative dataset, which is the data of crashes that did not happen. Fortunately, a [Senior Data Scientist at Esri](https://medium.com/geoai/using-machine-learning-to-predict-car-accident-risk-4d92c91a7d57) introduces a commonly used method for building up a negative sample set. Such negative dataset creation will be conducted in the following data preparation section.\n",
    "\n",
    "> Note: Large research institutes may be able to develop an algorithm to train data without negative data [(reference)](https://www.riken.jp/en/news_pubs/research_news/pr/2018/20181126_2/index.html). Hopefully such algorithm will be available in a Python library soon.\n",
    "  "
   ]
  },
  {
   "cell_type": "markdown",
   "metadata": {},
   "source": [
    "<font color=green>**Other datasets**</font><br>\n",
    "The positive crash dataset contains features such as weather, road conditions, light conditions, and even whether or not the driver was “under the influence.” We will go through such datasets as follows to evaluate their significance in causing crashes:<br>\n",
    "* Geospatal data available at [ArcGIS](https://developers.arcgis.com/search?q=seattle&p=api-python)\n",
    "* Weather data available at [NOAA](https://search.usa.gov/search?utf8=%E2%9C%93&affiliate=ncdc&query=seattle)\n",
    "\n",
    "\n",
    "As seen in the quick view below, however, according the SDOT crash data set, the majority of the crashes occurred when the road is dry, in daylight, and under no influence of drug or alcohol. Thus, <font color=green><u>further consideration</u></font> for data that represents relatively more human factors and personal attributes, e.g. driving skill, age, level of fatigue, mood, etc. will be followed.\n"
   ]
  },
  {
   "cell_type": "code",
   "execution_count": 27,
   "metadata": {
    "jupyter": {
     "source_hidden": true
    }
   },
   "outputs": [],
   "source": [
    "import numpy as np\n",
    "import matplotlib.pyplot as plt\n",
    "import seaborn as sns\n",
    "%matplotlib inline"
   ]
  },
  {
   "cell_type": "code",
   "execution_count": null,
   "metadata": {},
   "outputs": [],
   "source": [
    "#Quick view on SDOT positive data - Road / Light Condition"
   ]
  },
  {
   "cell_type": "code",
   "execution_count": 214,
   "metadata": {
    "jupyter": {
     "source_hidden": true
    }
   },
   "outputs": [
    {
     "data": {
      "image/png": "[encoded data removed]",
      "text/plain": [
       "<Figure size 1152x432 with 2 Axes>"
      ]
     },
     "metadata": {
      "needs_background": "light"
     },
     "output_type": "display_data"
    }
   ],
   "source": [
    "from matplotlib import gridspec\n",
    "\n",
    "fig = plt.figure()\n",
    "p1 = (sdot.groupby(['ROADCOND'])['SEVERITYDESC'].value_counts().unstack(level=0))\n",
    "p2 = (sdot.groupby(['LIGHTCOND'])['SEVERITYDESC'].value_counts().unstack(level=0))\n",
    "\n",
    "ax0 = fig.add_subplot(1, 2, 1) \n",
    "ax1 = fig.add_subplot(1, 2, 2) \n",
    "\n",
    "p1.plot(kind='bar', figsize=(10,6), ax=ax0, stacked=True)\n",
    "ax0.set_title('Severity x Road Condition')\n",
    "ax0.set_xlabel('Severity')\n",
    "\n",
    "p2.plot(kind='bar', figsize=(16,6), ax=ax1, stacked=True)\n",
    "p1.plot(kind='bar', figsize=(16,6), ax=ax0, stacked=True)\n",
    "ax1.set_title('Severity x Light Condition')\n",
    "ax1.set_xlabel('Severity')\n",
    "\n",
    "plt.show()"
   ]
  },
  {
   "cell_type": "code",
   "execution_count": 220,
   "metadata": {},
   "outputs": [],
   "source": [
    "#That with Property-only and Unknown excluded"
   ]
  },
  {
   "cell_type": "code",
   "execution_count": 221,
   "metadata": {
    "jupyter": {
     "source_hidden": true
    }
   },
   "outputs": [
    {
     "data": {
      "image/png": "[encoded data removed]",
      "text/plain": [
       "<Figure size 1152x432 with 2 Axes>"
      ]
     },
     "metadata": {
      "needs_background": "light"
     },
     "output_type": "display_data"
    }
   ],
   "source": [
    "\n",
    "sdot_f = sdot.loc[sdot['SEVERITYDESC'].isin(['Fatality Collision','Injury Collision','Serious Injury Collision'])]\n",
    "\n",
    "fig = plt.figure()\n",
    "pf1 = (sdot_f.groupby(['ROADCOND'])['SEVERITYDESC'].value_counts().unstack(level=0))\n",
    "pf2 = (sdot_f.groupby(['LIGHTCOND'])['SEVERITYDESC'].value_counts().unstack(level=0))\n",
    "\n",
    "ax0 = fig.add_subplot(1, 2, 1) \n",
    "ax1 = fig.add_subplot(1, 2, 2) \n",
    "\n",
    "pf1.plot(kind='bar', figsize=(10,6), ax=ax0, stacked=True)\n",
    "ax0.set_title('Severity x Road Condition')\n",
    "ax0.set_xlabel('Severity')\n",
    "\n",
    "pf2.plot(kind='bar', figsize=(16,6), ax=ax1, stacked=True)\n",
    "ax1.set_title('Severity x Light Condition')\n",
    "ax1.set_xlabel('Severity')\n",
    "\n",
    "plt.show()\n"
   ]
  },
  {
   "cell_type": "code",
   "execution_count": 222,
   "metadata": {
    "collapsed": true,
    "jupyter": {
     "outputs_hidden": true,
     "source_hidden": true
    }
   },
   "outputs": [
    {
     "data": {
      "text/plain": [
       "SEVERITYDESC                    WEATHER                 \n",
       "Fatality Collision              Clear                         227\n",
       "                                Overcast                       53\n",
       "                                Raining                        50\n",
       "                                Fog/Smog/Smoke                  3\n",
       "                                Other                           3\n",
       "                                Severe Crosswind                1\n",
       "                                Unknown                         1\n",
       "Injury Collision                Clear                       36189\n",
       "                                Raining                     11278\n",
       "                                Overcast                     8835\n",
       "                                Unknown                       816\n",
       "                                Fog/Smog/Smoke                188\n",
       "                                Snowing                       171\n",
       "                                Other                         120\n",
       "                                Sleet/Hail/Freezing Rain       29\n",
       "                                Blowing Sand/Dirt              15\n",
       "                                Severe Crosswind                7\n",
       "                                Partly Cloudy                   4\n",
       "Property Damage Only Collision  Clear                       75937\n",
       "                                Raining                     22164\n",
       "                                Overcast                    19175\n",
       "                                Unknown                     14275\n",
       "                                Snowing                       738\n",
       "                                Other                         723\n",
       "                                Fog/Smog/Smoke                383\n",
       "                                Sleet/Hail/Freezing Rain       85\n",
       "                                Blowing Sand/Dirt              41\n",
       "                                Severe Crosswind               18\n",
       "                                Partly Cloudy                   5\n",
       "Serious Injury Collision        Clear                        2007\n",
       "                                Raining                       528\n",
       "                                Overcast                      444\n",
       "                                Unknown                        39\n",
       "                                Snowing                        10\n",
       "                                Other                           7\n",
       "                                Fog/Smog/Smoke                  3\n",
       "                                Sleet/Hail/Freezing Rain        2\n",
       "                                Blowing Snow                    1\n",
       "Unknown                         Clear                           1\n",
       "                                Overcast                        1\n",
       "                                Raining                         1\n",
       "Name: WEATHER, dtype: int64"
      ]
     },
     "execution_count": 222,
     "metadata": {},
     "output_type": "execute_result"
    }
   ],
   "source": [
    "sdot.groupby(['SEVERITYDESC'])['WEATHER'].value_counts() "
   ]
  },
  {
   "cell_type": "code",
   "execution_count": 223,
   "metadata": {
    "collapsed": true,
    "jupyter": {
     "outputs_hidden": true,
     "source_hidden": true
    }
   },
   "outputs": [
    {
     "data": {
      "text/plain": [
       "SEVERITYDESC                    ROADCOND      \n",
       "Fatality Collision              Dry                 267\n",
       "                                Wet                  69\n",
       "                                Ice                   1\n",
       "                                Unknown               1\n",
       "Injury Collision                Dry               40464\n",
       "                                Wet               15897\n",
       "                                Unknown             755\n",
       "                                Ice                 275\n",
       "                                Snow/Slush          167\n",
       "                                Other                43\n",
       "                                Standing Water       30\n",
       "                                Oil                  24\n",
       "                                Sand/Mud/Dirt        23\n",
       "Property Damage Only Collision  Dry               85214\n",
       "                                Wet               31989\n",
       "                                Unknown           14345\n",
       "                                Ice                 937\n",
       "                                Snow/Slush          839\n",
       "                                Other                90\n",
       "                                Standing Water       86\n",
       "                                Sand/Mud/Dirt        54\n",
       "                                Oil                  40\n",
       "Serious Injury Collision        Dry                2226\n",
       "                                Wet                 757\n",
       "                                Unknown              30\n",
       "                                Ice                  18\n",
       "                                Snow/Slush            8\n",
       "                                Other                 3\n",
       "                                Standing Water        3\n",
       "Unknown                         Wet                   3\n",
       "Name: ROADCOND, dtype: int64"
      ]
     },
     "execution_count": 223,
     "metadata": {},
     "output_type": "execute_result"
    }
   ],
   "source": [
    "sdot.groupby(['SEVERITYDESC'])['ROADCOND'].value_counts() "
   ]
  },
  {
   "cell_type": "code",
   "execution_count": 224,
   "metadata": {
    "collapsed": true,
    "jupyter": {
     "outputs_hidden": true,
     "source_hidden": true
    }
   },
   "outputs": [
    {
     "data": {
      "text/plain": [
       "SEVERITYDESC                    LIGHTCOND               \n",
       "Fatality Collision              Daylight                      168\n",
       "                                Dark - Street Lights On       145\n",
       "                                Dusk                           14\n",
       "                                Dawn                            5\n",
       "                                Dark - Street Lights Off        4\n",
       "                                Dark - No Street Lights         1\n",
       "                                Unknown                         1\n",
       "Injury Collision                Daylight                    38919\n",
       "                                Dark - Street Lights On     14605\n",
       "                                Dusk                         1960\n",
       "                                Dawn                          837\n",
       "                                Unknown                       609\n",
       "                                Dark - No Street Lights       338\n",
       "                                Dark - Street Lights Off      316\n",
       "                                Other                          54\n",
       "                                Dark - Unknown Lighting         8\n",
       "Property Damage Only Collision  Daylight                    78301\n",
       "                                Dark - Street Lights On     34288\n",
       "                                Unknown                     12888\n",
       "                                Dusk                         3992\n",
       "                                Dawn                         1698\n",
       "                                Dark - No Street Lights      1210\n",
       "                                Dark - Street Lights Off      888\n",
       "                                Other                         186\n",
       "                                Dark - Unknown Lighting        12\n",
       "Serious Injury Collision        Daylight                     1775\n",
       "                                Dark - Street Lights On      1015\n",
       "                                Dusk                          110\n",
       "                                Dawn                           59\n",
       "                                Dark - Street Lights Off       28\n",
       "                                Unknown                        25\n",
       "                                Dark - No Street Lights        24\n",
       "                                Other                           4\n",
       "Unknown                         Daylight                        3\n",
       "Name: LIGHTCOND, dtype: int64"
      ]
     },
     "execution_count": 224,
     "metadata": {},
     "output_type": "execute_result"
    }
   ],
   "source": [
    "sdot.groupby(['SEVERITYDESC'])['LIGHTCOND'].value_counts()"
   ]
  },
  {
   "cell_type": "code",
   "execution_count": 225,
   "metadata": {
    "collapsed": true,
    "jupyter": {
     "outputs_hidden": true,
     "source_hidden": true
    }
   },
   "outputs": [
    {
     "data": {
      "text/plain": [
       "SEVERITYDESC                    UNDERINFL\n",
       "Fatality Collision              N              146\n",
       "                                0               99\n",
       "                                1               51\n",
       "                                Y               42\n",
       "Injury Collision                N            31446\n",
       "                                0            22701\n",
       "                                Y             1939\n",
       "                                1             1623\n",
       "Property Damage Only Collision  N            70438\n",
       "                                0            57691\n",
       "                                Y             3190\n",
       "                                1             2372\n",
       "Serious Injury Collision        N             1450\n",
       "                                0             1185\n",
       "                                Y              228\n",
       "                                1              184\n",
       "Unknown                         N                2\n",
       "Name: UNDERINFL, dtype: int64"
      ]
     },
     "execution_count": 225,
     "metadata": {},
     "output_type": "execute_result"
    }
   ],
   "source": [
    "sdot.groupby(['SEVERITYDESC'])['UNDERINFL'].value_counts() "
   ]
  },
  {
   "cell_type": "code",
   "execution_count": 226,
   "metadata": {
    "collapsed": true,
    "jupyter": {
     "outputs_hidden": true,
     "source_hidden": true
    }
   },
   "outputs": [
    {
     "data": {
      "text/plain": [
       "Property Damage Only Collision    7062\n",
       "Injury Collision                  3358\n",
       "Unknown                           1591\n",
       "Serious Injury Collision           173\n",
       "Fatality Collision                  14\n",
       "Name: SEVERITYDESC, dtype: int64"
      ]
     },
     "execution_count": 226,
     "metadata": {},
     "output_type": "execute_result"
    }
   ],
   "source": [
    "#breakdown in 2018\n",
    "s2018 = sdot.loc[sdot['year']==2018]\n",
    "s2018['SEVERITYDESC'].value_counts()"
   ]
  },
  {
   "cell_type": "markdown",
   "metadata": {},
   "source": [
    "##### EOD for Week 1 assignment"
   ]
  }
 ],
 "metadata": {
  "kernelspec": {
   "display_name": "Python 3",
   "language": "python",
   "name": "python3"
  },
  "language_info": {
   "codemirror_mode": {
    "name": "ipython",
    "version": 3
   },
   "file_extension": ".py",
   "mimetype": "text/x-python",
   "name": "python",
   "nbconvert_exporter": "python",
   "pygments_lexer": "ipython3",
   "version": "3.8.3"
  }
 },
 "nbformat": 4,
 "nbformat_minor": 4
}
